{
 "cells": [
  {
   "cell_type": "code",
   "execution_count": 7,
   "metadata": {
    "pycharm": {
     "name": "#%%\n"
    }
   },
   "outputs": [],
   "source": [
    "import d3fdgraph\n",
    "import pandas"
   ]
  },
  {
   "cell_type": "code",
   "execution_count": 13,
   "metadata": {
    "pycharm": {
     "name": "#%%\n"
    }
   },
   "outputs": [
    {
     "data": {
      "text/plain": "   source  target  weight\n0       1       2       1\n1       1       3       2\n2       2       3       3\n3       3       4       3\n4       4       5       3\n5       6       7       3",
      "text/html": "<div>\n<style scoped>\n    .dataframe tbody tr th:only-of-type {\n        vertical-align: middle;\n    }\n\n    .dataframe tbody tr th {\n        vertical-align: top;\n    }\n\n    .dataframe thead th {\n        text-align: right;\n    }\n</style>\n<table border=\"1\" class=\"dataframe\">\n  <thead>\n    <tr style=\"text-align: right;\">\n      <th></th>\n      <th>source</th>\n      <th>target</th>\n      <th>weight</th>\n    </tr>\n  </thead>\n  <tbody>\n    <tr>\n      <th>0</th>\n      <td>1</td>\n      <td>2</td>\n      <td>1</td>\n    </tr>\n    <tr>\n      <th>1</th>\n      <td>1</td>\n      <td>3</td>\n      <td>2</td>\n    </tr>\n    <tr>\n      <th>2</th>\n      <td>2</td>\n      <td>3</td>\n      <td>3</td>\n    </tr>\n    <tr>\n      <th>3</th>\n      <td>3</td>\n      <td>4</td>\n      <td>3</td>\n    </tr>\n    <tr>\n      <th>4</th>\n      <td>4</td>\n      <td>5</td>\n      <td>3</td>\n    </tr>\n    <tr>\n      <th>5</th>\n      <td>6</td>\n      <td>7</td>\n      <td>3</td>\n    </tr>\n  </tbody>\n</table>\n</div>"
     },
     "execution_count": 13,
     "metadata": {},
     "output_type": "execute_result"
    }
   ],
   "source": [
    "df = pandas.DataFrame(\n",
    "    [{\"source\": \"1\", \"target\": \"2\", \"weight\": 1},\n",
    "     {\"source\": \"1\", \"target\": \"3\", \"weight\": 2},\n",
    "     {\"source\": \"2\", \"target\": \"3\", \"weight\":3},\n",
    "     {\"source\": \"3\", \"target\": \"4\", \"weight\":3},\n",
    "     {\"source\": \"4\", \"target\": \"5\", \"weight\":3},\n",
    "     {\"source\": \"6\", \"target\": \"7\", \"weight\":3}\n",
    "    ])\n",
    "df"
   ]
  },
  {
   "cell_type": "code",
   "execution_count": 14,
   "metadata": {
    "pycharm": {
     "name": "#%%\n"
    }
   },
   "outputs": [
    {
     "data": {
      "text/html": "<script src=\"/static/components/requirejs/require.js\"></script>\n<div id=\"d3-container-2216911\"></div>\n<div>force-directed graph</div>\n\n<style>\n    .links line {\n        stroke: #88d;\n        stroke-opacity: .2;\n    }\n    .nodes circle {\n        pointer-events: all;\n        stroke: #fff;\n        fill: #a55;\n        stroke-width: 1.5px;\n        opacity: 0.7;\n    }\n    .nodes text {\n        pointer-events: none;\n        font: 10px sans-serif;\n        fill: #333;\n        opacity: .5;\n    }\n</style>"
     },
     "metadata": {},
     "output_type": "display_data"
    },
    {
     "data": {
      "application/javascript": "// require is how jupyter manages javascript libraries\nrequire.config({\n    paths: {\n        d3: 'https://d3js.org/d3.v5.min'\n    }\n});\n\nrequire([\"d3\"], function(d3) {\n    //console.log(d3.version);\n\n    // size of plot\n    const width = 800;\n    const height = 600;\n\n    // node radius\n    const node_radius = 3;\n    // link distance before weight is applied\n    const link_distance = 20;\n    // collision exclusion sclae\n    const collision_scale = 4;\n    // link with scale\n    const link_width_scale = 4;\n\n    // links and nodes data\n    const links = [{'weight': 1, 'source': 1, 'target': 2}, {'weight': 2, 'source': 1, 'target': 3}, {'weight': 3, 'source': 2, 'target': 3}, {'weight': 3, 'source': 3, 'target': 4}, {'weight': 3, 'source': 4, 'target': 5}, {'weight': 3, 'source': 6, 'target': 7}];\n    const nodes = [{'id': 1}, {'id': 2}, {'id': 3}, {'id': 4}, {'id': 5}, {'id': 6}, {'id': 7}];\n\n\n    // create simulation\n    const simulation = d3.forceSimulation(nodes)\n    .force(\"link\", d3.forceLink(links).id(d => d.id).distance(d => link_distance / d.weight))\n    .force(\"charge\", d3.forceManyBody().strength(-20))\n    .force('collision', d3.forceCollide().radius(collision_scale * node_radius))\n    .force(\"center\", d3.forceCenter(width / 2, height / 2));\n\n    /// dragging nodes\n    const drag = simulation => {\n\n        function dragstarted(d) {\n        if (!d3.event.active) simulation.alphaTarget(0.3).restart();\n            d.fx = d.x;\n            d.fy = d.y;\n        }\n\n        function dragged(d) {\n            d.fx = d3.event.x;\n            d.fy = d3.event.y;\n        }\n\n        function dragended(d) {\n        if (!d3.event.active) simulation.alphaTarget(0);\n            d.fx = null;\n            d.fy = null;\n        }\n\n        return d3.drag()\n          .on(\"start\", dragstarted)\n          .on(\"drag\", dragged)\n          .on(\"end\", dragended);\n    }\n\n    // select HTML element and attach SVG to it\n    const svg = d3.select(\"#d3-container-2216911\")\n        .append(\"svg\")\n        .attr(\"width\", width)\n        .attr(\"height\", height);\n\n    // add links to svg element\n    const link = svg.append(\"g\")\n            .attr(\"class\", \"links\")\n        .selectAll(\"line\")\n        .data(links)\n        .enter().append(\"line\")\n            .style(\"stroke-width\", d => Math.sqrt(link_width_scale*d.weight));\n\n    const node = svg.append(\"g\")\n            .attr(\"class\", \"nodes\")\n        .selectAll(\"g\")\n        .data(nodes)\n        .enter().append(\"g\");\n\n\n    const circle = node.append(\"circle\")\n            .attr(\"r\", node_radius)\n            .on(\"dblclick\", d => {d.x = width/2; d.y = height/2;})\n            .call(drag(simulation));\n\n    // svg text labels for eachnode\n    const label = node.append(\"text\")\n            .attr(\"dx\", 10)\n            .attr(\"dy\", \".35em\")\n            .text(d => d.id);\n\n\n    // update svg on simulation ticks\n    simulation.on(\"tick\", () => {\n        circle\n        // keep within edge of canvas, larger margin on right for text labels\n            .attr(\"cx\", d => (d.x = Math.max(2*node_radius, Math.min(width - 2*node_radius - 10*d.id.length, d.x)) ))\n            .attr(\"cy\", d => (d.y = Math.max(2*node_radius, Math.min(height - 2*node_radius, d.y)) ));\n\n        link\n            .attr(\"x1\", d => d.source.x)\n            .attr(\"y1\", d => d.source.y)\n            .attr(\"x2\", d => d.target.x)\n            .attr(\"y2\", d => d.target.y);\n\n\n        label\n            .attr(\"x\", d => d.x)\n            .attr(\"y\", d => d.y);\n    });\n\n\n    //return svg.node();\n\n});\n\n"
     },
     "metadata": {},
     "output_type": "display_data"
    }
   ],
   "source": [
    "d3fdgraph.plot_force_directed_graph(df)"
   ]
  },
  {
   "cell_type": "code",
   "execution_count": null,
   "metadata": {
    "pycharm": {
     "name": "#%%\n"
    }
   },
   "outputs": [],
   "source": []
  }
 ],
 "metadata": {
  "kernelspec": {
   "display_name": "Python 3 (ipykernel)",
   "language": "python",
   "name": "python3"
  },
  "language_info": {
   "codemirror_mode": {
    "name": "ipython",
    "version": 3
   },
   "file_extension": ".py",
   "mimetype": "text/x-python",
   "name": "python",
   "nbconvert_exporter": "python",
   "pygments_lexer": "ipython3",
   "version": "3.9.7"
  }
 },
 "nbformat": 4,
 "nbformat_minor": 1
}
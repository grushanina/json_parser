{
 "cells": [
  {
   "cell_type": "code",
   "execution_count": null,
   "metadata": {
    "collapsed": true,
    "pycharm": {
     "is_executing": true
    }
   },
   "outputs": [],
   "source": [
    "from IPython.core.display import display, HTML\n",
    "from string import Template\n",
    "import pandas as pd\n",
    "import json, random\n",
    "import numpy as np\n",
    "import matplotlib.pyplot as plt"
   ]
  },
  {
   "cell_type": "code",
   "execution_count": 2,
   "metadata": {
    "pycharm": {
     "name": "#%%\n"
    }
   },
   "outputs": [],
   "source": [
    "def open_json(filename):\n",
    "    with open(filename, \"r\", encoding=\"utf-8\") as read_file:\n",
    "        data = json.load(read_file)\n",
    "    return data"
   ]
  },
  {
   "cell_type": "code",
   "execution_count": 3,
   "metadata": {
    "pycharm": {
     "name": "#%%\n"
    }
   },
   "outputs": [],
   "source": [
    "class Person:\n",
    "    def __init__(self, dictionary):\n",
    "        self.id = dictionary['id']\n",
    "        self.name = dictionary['name']\n",
    "        self.gender = dictionary['gender']\n",
    "        if 'pids' in dictionary.keys():\n",
    "            self.pids = dictionary['pids']\n",
    "        if 'mid' in dictionary.keys():\n",
    "            self.mid = dictionary['mid']\n",
    "        if 'fid' in dictionary.keys():\n",
    "            self.fid = dictionary['fid']\n",
    "        self.cids = []\n",
    "        self.rank = -1\n",
    "\n",
    "    def __repr__(self):\n",
    "        result = str(self.id) + ', ' + self.name + ', ' + self.gender\n",
    "        if hasattr(self, 'pids'):\n",
    "            result += ', ' + str(self.pids)\n",
    "        if hasattr(self, 'mid'):\n",
    "            result += ', ' + str(self.mid)\n",
    "        if hasattr(self, 'fid'):\n",
    "            result += ', ' + str(self.fid)\n",
    "        if len(self.cids) != 0:\n",
    "            result += ', ' + str(self.cids)\n",
    "        result += ', ' + str(self.rank)\n",
    "        return '{' + result + '}'"
   ]
  },
  {
   "cell_type": "code",
   "execution_count": 4,
   "metadata": {
    "pycharm": {
     "name": "#%%\n"
    }
   },
   "outputs": [],
   "source": [
    "def get_all_rank(tree, rank):\n",
    "    result = []\n",
    "    for id in tree:\n",
    "        if tree[id].rank == str(rank):\n",
    "            result.append(tree[id])\n",
    "    return result"
   ]
  },
  {
   "cell_type": "code",
   "execution_count": 77,
   "metadata": {
    "pycharm": {
     "name": "#%%\n"
    }
   },
   "outputs": [],
   "source": [
    "class FamilyTree:\n",
    "    def __init__(self, tree_list):\n",
    "        self.tree = {}\n",
    "        if type(tree_list) is list:\n",
    "            for node in tree_list:\n",
    "                if type(node) is dict:\n",
    "                    person = Person(node)\n",
    "                    self.tree.update({person.id: person})\n",
    "                else:\n",
    "                    print(\"List must contains dict!\")\n",
    "        else:\n",
    "            print(\"Tree must be list!\")\n",
    "        self.__add_children()\n",
    "        self.__add_rank()\n",
    "\n",
    "    def __add_children(self):\n",
    "        result = self.tree\n",
    "        for i in self.tree:\n",
    "            if hasattr(self.tree[i], \"mid\"):\n",
    "                result[self.tree[i].mid].cids.append(self.tree[i].id)\n",
    "            if hasattr(self.tree[i], \"fid\"):\n",
    "                result[self.tree[i].fid].cids.append(self.tree[i].id)\n",
    "        self.tree = result\n",
    "\n",
    "    def __add_rank(self):\n",
    "        result = self.tree\n",
    "        def add_rank_node(node, rank):\n",
    "            if node.rank == -1:\n",
    "                node.rank = str(rank)\n",
    "                if hasattr(node, 'pids'):\n",
    "                    for n in node.pids:\n",
    "                        add_rank_node(result[n], rank)\n",
    "            else:\n",
    "                rank+=1\n",
    "                if len(node.cids) != 0:\n",
    "                    for n in node.cids:\n",
    "                        add_rank_node(result[n], rank)\n",
    "        add_rank_node(result[1], 0)\n",
    "        self.tree = result\n",
    "\n",
    "    def get_all_rank(self):\n",
    "        ranks = []\n",
    "        for person in self.tree.values():\n",
    "            ranks.append(int(person.rank))\n",
    "        return ranks\n",
    "\n",
    "    def get_all_name(self):\n",
    "        names = []\n",
    "        for person in self.tree.values():\n",
    "            names.append(person.name.split(\" \")[0])\n",
    "        return names"
   ]
  },
  {
   "cell_type": "code",
   "execution_count": 16,
   "metadata": {
    "pycharm": {
     "name": "#%%\n"
    }
   },
   "outputs": [
    {
     "data": {
      "text/plain": [
       "{1: {1, Михаил Федорович, male, [2], [3], 0, -1},\n",
       " 2: {2, Евдокия Лукьяновна Стрешнева, female, [1], [3], 0, -1},\n",
       " 3: {3, Алексей Михайлович, male, 1, 2, 1, -1}}"
      ]
     },
     "execution_count": 16,
     "metadata": {},
     "output_type": "execute_result"
    }
   ],
   "source": [
    "family_tree = FamilyTree(open_json('data/tree3_very_simple.json'))\n",
    "family_tree.tree"
   ]
  }
 ],
 "metadata": {
  "kernelspec": {
   "display_name": "Python 3 (ipykernel)",
   "language": "python",
   "name": "python3"
  },
  "language_info": {
   "codemirror_mode": {
    "name": "ipython",
    "version": 3
   },
   "file_extension": ".py",
   "mimetype": "text/x-python",
   "name": "python",
   "nbconvert_exporter": "python",
   "pygments_lexer": "ipython3",
   "version": "3.9.7"
  }
 },
 "nbformat": 4,
 "nbformat_minor": 1
}
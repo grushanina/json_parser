{
 "cells": [
  {
   "cell_type": "code",
   "execution_count": 37,
   "metadata": {
    "collapsed": true
   },
   "outputs": [],
   "source": [
    "from IPython.core.display import display, HTML\n",
    "from string import Template\n",
    "import pandas as pd\n",
    "import json, random\n",
    "import numpy as np\n",
    "import matplotlib.pyplot as plt"
   ]
  },
  {
   "cell_type": "code",
   "execution_count": 2,
   "outputs": [],
   "source": [
    "def open_json(filename):\n",
    "    with open(filename, \"r\", encoding=\"utf-8\") as read_file:\n",
    "        data = json.load(read_file)\n",
    "    return data"
   ],
   "metadata": {
    "collapsed": false,
    "pycharm": {
     "name": "#%%\n"
    }
   }
  },
  {
   "cell_type": "code",
   "execution_count": 3,
   "outputs": [],
   "source": [
    "class Person:\n",
    "    def __init__(self, dictionary):\n",
    "        self.id = dictionary['id']\n",
    "        self.name = dictionary['name']\n",
    "        self.gender = dictionary['gender']\n",
    "        if 'pids' in dictionary.keys():\n",
    "            self.pids = dictionary['pids']\n",
    "        if 'mid' in dictionary.keys():\n",
    "            self.mid = dictionary['mid']\n",
    "        if 'fid' in dictionary.keys():\n",
    "            self.fid = dictionary['fid']\n",
    "        self.cids = []\n",
    "        self.rank = -1\n",
    "        self.x = -1\n",
    "\n",
    "    def __repr__(self):\n",
    "        result = str(self.id) + ', ' + self.name + ', ' + self.gender\n",
    "        if hasattr(self, 'pids'):\n",
    "            result += ', ' + str(self.pids)\n",
    "        if hasattr(self, 'mid'):\n",
    "            result += ', ' + str(self.mid)\n",
    "        if hasattr(self, 'fid'):\n",
    "            result += ', ' + str(self.fid)\n",
    "        if len(self.cids) != 0:\n",
    "            result += ', ' + str(self.cids)\n",
    "        result += ', ' + str(self.rank)\n",
    "        result += ', ' + str(self.x)\n",
    "        return '{' + result + '}'"
   ],
   "metadata": {
    "collapsed": false,
    "pycharm": {
     "name": "#%%\n"
    }
   }
  },
  {
   "cell_type": "code",
   "execution_count": 4,
   "outputs": [],
   "source": [
    "def get_all_rank(tree, rank):\n",
    "    result = []\n",
    "    for id in tree:\n",
    "        if tree[id].rank == str(rank):\n",
    "            result.append(tree[id])\n",
    "    return result"
   ],
   "metadata": {
    "collapsed": false,
    "pycharm": {
     "name": "#%%\n"
    }
   }
  },
  {
   "cell_type": "code",
   "execution_count": 77,
   "outputs": [],
   "source": [
    "class FamilyTree:\n",
    "    def __init__(self, tree_list):\n",
    "        self.tree = {}\n",
    "        if type(tree_list) is list:\n",
    "            for node in tree_list:\n",
    "                if type(node) is dict:\n",
    "                    person = Person(node)\n",
    "                    self.tree.update({person.id: person})\n",
    "                else:\n",
    "                    print(\"List must contains dict!\")\n",
    "        else:\n",
    "            print(\"Tree must be list!\")\n",
    "        self.__add_children()\n",
    "        self.__add_rank()\n",
    "\n",
    "    def __add_children(self):\n",
    "        result = self.tree\n",
    "        for i in self.tree:\n",
    "            if hasattr(self.tree[i], \"mid\"):\n",
    "                result[self.tree[i].mid].cids.append(self.tree[i].id)\n",
    "            if hasattr(self.tree[i], \"fid\"):\n",
    "                result[self.tree[i].fid].cids.append(self.tree[i].id)\n",
    "        self.tree = result\n",
    "\n",
    "    def __add_rank(self):\n",
    "        result = self.tree\n",
    "        def add_rank_node(node, rank):\n",
    "            if node.rank == -1:\n",
    "                node.rank = str(rank)\n",
    "                if hasattr(node, 'pids'):\n",
    "                    for n in node.pids:\n",
    "                        add_rank_node(result[n], rank)\n",
    "            else:\n",
    "                rank+=1\n",
    "                if len(node.cids) != 0:\n",
    "                    for n in node.cids:\n",
    "                        add_rank_node(result[n], rank)\n",
    "        add_rank_node(result[1], 0)\n",
    "        self.tree = result\n",
    "\n",
    "    def get_all_rank(self):\n",
    "        ranks = []\n",
    "        for person in self.tree.values():\n",
    "            ranks.append(int(person.rank))\n",
    "        return ranks\n",
    "\n",
    "    def get_all_x(self):\n",
    "        x = []\n",
    "        for person in self.tree.values():\n",
    "            x.append(person.x)\n",
    "        return x\n",
    "\n",
    "    def get_all_name(self):\n",
    "        names = []\n",
    "        for person in self.tree.values():\n",
    "            names.append(person.name.split(\" \")[0])\n",
    "        return names"
   ],
   "metadata": {
    "collapsed": false,
    "pycharm": {
     "name": "#%%\n"
    }
   }
  },
  {
   "cell_type": "code",
   "execution_count": 16,
   "outputs": [
    {
     "data": {
      "text/plain": "{1: {1, Михаил Федорович, male, [2], [3], 0, -1},\n 2: {2, Евдокия Лукьяновна Стрешнева, female, [1], [3], 0, -1},\n 3: {3, Алексей Михайлович, male, 1, 2, 1, -1}}"
     },
     "execution_count": 16,
     "metadata": {},
     "output_type": "execute_result"
    }
   ],
   "source": [
    "family_tree = FamilyTree(open_json('data/tree3_very_simple.json'))\n",
    "family_tree.tree"
   ],
   "metadata": {
    "collapsed": false,
    "pycharm": {
     "name": "#%%\n"
    }
   }
  },
  {
   "cell_type": "code",
   "execution_count": 7,
   "outputs": [],
   "source": [
    "def get_x_for_nodes(lst, center):\n",
    "    result = []\n",
    "    if len(lst)%2 == 0:\n",
    "        half = len(lst)/2\n",
    "        for i in np.arange(-half + 0.5, half - 0.4, 1.0):\n",
    "            result.append(i + center)\n",
    "    else:\n",
    "        for i in range(len(lst)//2 - len(lst) + 1, len(lst)//2 + 1):\n",
    "            result.append(i + center)\n",
    "    return result"
   ],
   "metadata": {
    "collapsed": false,
    "pycharm": {
     "name": "#%%\n"
    }
   }
  },
  {
   "cell_type": "code",
   "execution_count": 90,
   "outputs": [],
   "source": [
    "def set_x(tree, root_id):\n",
    "    for i in tree:\n",
    "        if hasattr(tree[i], 'pids'):\n",
    "            setattr(tree[i], 'pids_tmp', tree[i].pids.copy())\n",
    "\n",
    "    def set_x_person(person):\n",
    "        if hasattr(person, 'pids_tmp'):\n",
    "            for pid in person.pids_tmp:\n",
    "                if tree[pid].x == -1:\n",
    "                    tree[pid].x = person.x + 0.5\n",
    "                children_id = list(set(person.cids) & set(tree[pid].cids))\n",
    "                children_x = get_x_for_nodes(children_id, person.x + 0.25)\n",
    "                for i in range(len(children_x)):\n",
    "                    if tree[children_id[i]].x == -1:\n",
    "                        tree[children_id[i]].x = children_x[i]\n",
    "                        set_x_person(tree[children_id[i]])\n",
    "\n",
    "                if person.id in tree[pid].pids_tmp:\n",
    "                    tree[pid].pids_tmp.remove(person.id)\n",
    "\n",
    "                set_x_person(tree[pid])\n",
    "\n",
    "    tree[root_id].x = 0\n",
    "    set_x_person(tree[root_id])"
   ],
   "metadata": {
    "collapsed": false,
    "pycharm": {
     "name": "#%%\n"
    }
   }
  },
  {
   "cell_type": "code",
   "execution_count": 91,
   "outputs": [
    {
     "data": {
      "text/plain": "{1: {1, Михаил Федорович, male, [2], [3], 0, 0},\n 2: {2, Евдокия Лукьяновна Стрешнева, female, [1], [3], 0, 0.5},\n 3: {3, Алексей Михайлович, male, [4], 1, 2, [6, 7, 8], 1, 0.25},\n 4: {4, Мария Ильинична Милославская, female, [3], [6, 7, 8], 1, 0.75},\n 6: {6, Федор Алексеевич, male, [9], 3, 4, 2, 0.5},\n 7: {7, Софья Алексеевна, female, 3, 4, 2, 1.5},\n 8: {8, Иоанн V Алексеевич, male, [10], 3, 4, [11, 12], 2, -0.5},\n 9: {9, Марфа Матвеевна Апраксина, female, [6], 2, 1.0},\n 10: {10, Прасковья Федоровна Салтыкова, female, [8], [11, 12], 2, 0.0},\n 11: {11, Екатерина Иоановна, female, [13], 8, 10, [15], 3, -0.75},\n 12: {12, Анна Иоановна, female, [14], 8, 10, 3, 0.25},\n 13: {13, Карл Леопольд Мекленбург-Шверенский, male, [11], [15], 3, -0.25},\n 14: {14, Фридрих Вильгельм Курляндский, male, [12], 3, 0.75},\n 15: {15, Анна Леопольдовна, female, [16], 13, 11, [17], 4, -0.5},\n 16: {16, Антон Ульрих Брауншвейг-Вольфенбюттельский, male, [15], [17], 4, 0.0},\n 17: {17, Иоанн VI Антонович, male, 15, 16, 5, -0.25}}"
     },
     "execution_count": 91,
     "metadata": {},
     "output_type": "execute_result"
    }
   ],
   "source": [
    "family_tree = FamilyTree(open_json('data/tree3_simple.json'))\n",
    "set_x(family_tree.tree, 1)\n",
    "family_tree.tree"
   ],
   "metadata": {
    "collapsed": false,
    "pycharm": {
     "name": "#%%\n"
    }
   }
  },
  {
   "cell_type": "code",
   "execution_count": 92,
   "outputs": [
    {
     "data": {
      "text/plain": "<Figure size 600x400 with 1 Axes>",
      "image/png": "[encoded data removed]"
     },
     "metadata": {
      "needs_background": "light"
     },
     "output_type": "display_data"
    }
   ],
   "source": [
    "x = family_tree.get_all_x()\n",
    "y =  family_tree.get_all_rank()\n",
    "for i in range(len(y)):\n",
    "    y[i] = max(y) - y[i]\n",
    "n = family_tree.get_all_name()\n",
    "\n",
    "fig, ax = plt.subplots(dpi = 100)\n",
    "ax.scatter(x, y)\n",
    "\n",
    "for i, txt in enumerate(n):\n",
    "    ax.annotate(txt, (x[i], y[i]))\n",
    "\n",
    "plt.show()"
   ],
   "metadata": {
    "collapsed": false,
    "pycharm": {
     "name": "#%%\n"
    }
   }
  },
  {
   "cell_type": "code",
   "execution_count": 63,
   "outputs": [
    {
     "data": {
      "text/plain": "[0, 0, 0.5, 0, 1.0, 2.0, 0.0, 0, 0, 0.0, 1.0, 0, 0, 0.5, 0, 1.0]"
     },
     "execution_count": 63,
     "metadata": {},
     "output_type": "execute_result"
    }
   ],
   "source": [
    "family_tree.get_all_names()"
   ],
   "metadata": {
    "collapsed": false,
    "pycharm": {
     "name": "#%%\n"
    }
   }
  },
  {
   "cell_type": "code",
   "execution_count": 88,
   "outputs": [
    {
     "data": {
      "text/plain": "3"
     },
     "execution_count": 88,
     "metadata": {},
     "output_type": "execute_result"
    }
   ],
   "source": [],
   "metadata": {
    "collapsed": false,
    "pycharm": {
     "name": "#%%\n"
    }
   }
  },
  {
   "cell_type": "code",
   "execution_count": null,
   "outputs": [],
   "source": [],
   "metadata": {
    "collapsed": false,
    "pycharm": {
     "name": "#%%\n"
    }
   }
  }
 ],
 "metadata": {
  "kernelspec": {
   "display_name": "Python 3",
   "language": "python",
   "name": "python3"
  },
  "language_info": {
   "codemirror_mode": {
    "name": "ipython",
    "version": 2
   },
   "file_extension": ".py",
   "mimetype": "text/x-python",
   "name": "python",
   "nbconvert_exporter": "python",
   "pygments_lexer": "ipython2",
   "version": "2.7.6"
  }
 },
 "nbformat": 4,
 "nbformat_minor": 0
}
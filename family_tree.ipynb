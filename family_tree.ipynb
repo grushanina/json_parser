{
 "cells": [
  {
   "cell_type": "code",
   "execution_count": 2,
   "metadata": {
    "collapsed": true
   },
   "outputs": [],
   "source": [
    "from IPython.core.display import display, HTML\n",
    "from string import Template\n",
    "import pandas as pd\n",
    "import json, random\n",
    "import numpy as np\n",
    "import matplotlib.pyplot as plt"
   ]
  },
  {
   "cell_type": "code",
   "execution_count": 3,
   "metadata": {
    "pycharm": {
     "name": "#%%\n"
    }
   },
   "outputs": [],
   "source": [
    "def open_json(filename):\n",
    "    with open(filename, \"r\", encoding=\"utf-8\") as read_file:\n",
    "        data = json.load(read_file)\n",
    "    return data"
   ]
  },
  {
   "cell_type": "code",
   "execution_count": 76,
   "metadata": {
    "pycharm": {
     "name": "#%%\n"
    }
   },
   "outputs": [],
   "source": [
    "class Person:\n",
    "    def __init__(self, dictionary):\n",
    "        self.id = dictionary['id']\n",
    "        self.name = dictionary['name']\n",
    "        self.gender = dictionary['gender']\n",
    "        if 'pids' in dictionary.keys():\n",
    "            self.pids = dictionary['pids']\n",
    "        else:\n",
    "            self.pids = []\n",
    "        if 'mid' in dictionary.keys():\n",
    "            self.mid = dictionary['mid']\n",
    "        else:\n",
    "            self.mid = -1\n",
    "        if 'fid' in dictionary.keys():\n",
    "            self.fid = dictionary['fid']\n",
    "        else:\n",
    "            self.fid = -1\n",
    "        self.cids = []\n",
    "        self.rank = -1\n",
    "\n",
    "\n",
    "    def __repr__(self):\n",
    "        result = str(self.id) + ', ' + self.name + ', ' + self.gender\n",
    "        result += ', ' + str(self.pids)\n",
    "        result += ', ' + str(self.mid)\n",
    "        result += ', ' + str(self.fid)\n",
    "        result += ', ' + str(self.cids)\n",
    "        result += ', ' + str(self.rank)\n",
    "        return '{' + result + '}'"
   ]
  },
  {
   "cell_type": "code",
   "execution_count": 77,
   "metadata": {
    "pycharm": {
     "name": "#%%\n"
    }
   },
   "outputs": [],
   "source": [
    "def get_all_rank(tree, rank):\n",
    "    result = []\n",
    "    for id in tree:\n",
    "        if tree[id].rank == str(rank):\n",
    "            result.append(tree[id])\n",
    "    return result"
   ]
  },
  {
   "cell_type": "code",
   "execution_count": 79,
   "metadata": {
    "pycharm": {
     "name": "#%%\n"
    }
   },
   "outputs": [],
   "source": [
    "class FamilyTree:\n",
    "    def __init__(self, tree_list):\n",
    "        self.tree = {}\n",
    "        if type(tree_list) is list:\n",
    "            for node in tree_list:\n",
    "                if type(node) is dict:\n",
    "                    person = Person(node)\n",
    "                    self.tree.update({person.id: person})\n",
    "                else:\n",
    "                    print(\"List must contains dict!\")\n",
    "        else:\n",
    "            print(\"Tree must be list!\")\n",
    "        self.__add_children()\n",
    "        self.__add_rank()\n",
    "\n",
    "    def __add_children(self):\n",
    "        result = self.tree\n",
    "        for i in self.tree:\n",
    "            if self.tree[i].mid != -1:\n",
    "                result[self.tree[i].mid].cids.append(self.tree[i].id)\n",
    "            if self.tree[i].fid != -1:\n",
    "                result[self.tree[i].fid].cids.append(self.tree[i].id)\n",
    "        self.tree = result\n",
    "\n",
    "    def __add_rank(self):\n",
    "        result = self.tree\n",
    "        def add_rank_node(node, rank):\n",
    "            if node.rank == -1:\n",
    "                node.rank = str(rank)\n",
    "                for n in node.pids:\n",
    "                    add_rank_node(result[n], rank)\n",
    "            else:\n",
    "                rank+=1\n",
    "                for n in node.cids:\n",
    "                    add_rank_node(result[n], rank)\n",
    "        add_rank_node(result[1], 0)\n",
    "        self.tree = result\n",
    "\n",
    "    def get_all_attr(self, attr_name):\n",
    "        result = []\n",
    "        for person in self.tree.values():\n",
    "            result.append(getattr(person, attr_name))\n",
    "        return result\n",
    "\n",
    "    def get_dataframe(self):\n",
    "        df_dict = {}\n",
    "        for attr in ['id', 'name', 'gender', 'pids', 'mid', 'fid', 'cids', 'rank']:\n",
    "            df_dict.update({attr:self.get_all_attr(attr)})\n",
    "        df = pd.DataFrame.from_dict(df_dict)\n",
    "        df.set_index('id', inplace=True)\n",
    "        return df\n",
    "\n",
    "    def get_persons_df(self):\n",
    "        df_dict = {}\n",
    "        for attr in ['id', 'name', 'gender', 'rank']:\n",
    "            df_dict.update({attr:self.get_all_attr(attr)})\n",
    "        df = pd.DataFrame.from_dict(df_dict)\n",
    "        df.set_index('id', inplace=True)\n",
    "        return df\n",
    "\n",
    "    def get_links_df(self):\n",
    "        df_dict = {}\n",
    "        for attr in ['id', 'pids', 'cids']:\n",
    "            df_dict.update({attr:self.get_all_attr(attr)})\n",
    "        df = pd.DataFrame.from_dict(df_dict)\n",
    "        df.set_index('id', inplace=True)\n",
    "        return df\n",
    "\n",
    "    def get_links_pair_df(self):\n",
    "        df_dict = {'source_id':[], 'target_id':[]}\n",
    "        for person in self.tree.values():\n",
    "            for pid in person.pids:\n",
    "                df_dict['source_id'].append(person.id)\n",
    "                df_dict['target_id'].append(self.tree[pid].id)\n",
    "            for сid in person.cids:\n",
    "                df_dict['source_id'].append(person.id)\n",
    "                df_dict['target_id'].append(self.tree[сid].id)\n",
    "        df = pd.DataFrame.from_dict(df_dict)\n",
    "        df.set_index('source_id', inplace=True)\n",
    "        return df"
   ]
  },
  {
   "cell_type": "code",
   "execution_count": 80,
   "metadata": {
    "pycharm": {
     "name": "#%%\n"
    }
   },
   "outputs": [
    {
     "data": {
      "text/plain": "{1: {1, Михаил Федорович, male, [2], -1, -1, [3], 0},\n 2: {2, Евдокия Лукьяновна Стрешнева, female, [1], -1, -1, [3], 0},\n 3: {3, Алексей Михайлович, male, [4, 5], 1, 2, [6, 7, 8, 18], 1},\n 4: {4, Мария Ильинична Милославская, female, [3], -1, -1, [6, 7, 8], 1},\n 5: {5, Наталья Кирилловна Нарышкина, female, [3], -1, -1, [18], 1},\n 6: {6, Федор Алексеевич, male, [9], 3, 4, [], 2},\n 7: {7, Софья Алексеевна, female, [], 3, 4, [], 2},\n 8: {8, Иоанн V Алексеевич, male, [10], 3, 4, [11, 12], 2},\n 9: {9, Марфа Матвеевна Апраксина, female, [6], -1, -1, [], 2},\n 10: {10, Прасковья Федоровна Салтыкова, female, [8], -1, -1, [11, 12], 2},\n 11: {11, Екатерина Иоановна, female, [13], 8, 10, [15], 3},\n 12: {12, Анна Иоановна, female, [14], 8, 10, [], 3},\n 13: {13, Карл Леопольд Мекленбург-Шверенский, male, [11], -1, -1, [15], 3},\n 14: {14, Фридрих Вильгельм Курляндский, male, [12], -1, -1, [], 3},\n 15: {15, Анна Леопольдовна, female, [16], 13, 11, [17], 4},\n 16: {16, Антон Ульрих Брауншвейг-Вольфенбюттельский, male, [15], -1, -1, [17], 4},\n 17: {17, Иоанн VI Антонович, male, [], 15, 16, [], 5},\n 18: {18, Петр I Алексеевич, male, [19, 20], 3, 5, [21, 24, 25], 2},\n 19: {19, Еводокия Федоровна Лопухина, female, [18], -1, -1, [21], 2},\n 20: {20, Екатерина I Алексеевна, female, [18], -1, -1, [24, 25], 2},\n 21: {21, Алексей Петрович, male, [22], 18, 19, [23], 3},\n 22: {22, Наталья Алексеевна Брауншвейг-Вольфенбюттельская, female, [21], -1, -1, [23], 3},\n 23: {23, Петр II Алексеевич, male, [], 22, 21, [], 4},\n 24: {24, Анна Петровна, female, [26], 18, 20, [27], 3},\n 25: {25, Елизавета  Петровна, female, [], 18, 20, [], 3},\n 26: {26, Карл Фридрих Гольштейн-Готторпсикй   , male, [24], -1, -1, [27], 3},\n 27: {27, Петр II Федорович, male, [28], 26, 24, [29], 4},\n 28: {28, Екатерина II Алексеевна, female, [27], -1, -1, [29], 4},\n 29: {29, Павел I Петрович, male, [30, 31], 27, 28, [32, 33], 5},\n 30: {30, Наталья Алексеевна Гессен-Дармштадская, female, [29], -1, -1, [32, 33], 5},\n 31: {31, Мария Федоровна Вюртембергская, female, [29], -1, -1, [], 5},\n 32: {32, Александр I Павлович, male, [34], 29, 30, [], 6},\n 33: {33, Николай I Павлович, male, [35], 29, 30, [36], 6},\n 34: {34, Елизавета Алексеевна Баден-Дурлахская, female, [32], -1, -1, [], 6},\n 35: {35, Александра Федоровна Прусская, female, [33], -1, -1, [36], 6},\n 36: {36, Александр II Николаевич, male, [37], 33, 35, [38], 7},\n 37: {37, Мария Александровна Гессенская, female, [36], -1, -1, [38], 7},\n 38: {38, Александр III Александрович, male, [39], 36, 37, [40], 8},\n 39: {39, Мария Федоровна Датская, female, [38], -1, -1, [40], 8},\n 40: {40, Николай II Александрович, male, [41], 38, 39, [], 9},\n 41: {41, Александра Федоровна Гессенская, female, [40], -1, -1, [], 9}}"
     },
     "execution_count": 80,
     "metadata": {},
     "output_type": "execute_result"
    }
   ],
   "source": [
    "family_tree = FamilyTree(open_json('data/tree3.json'))\n",
    "family_tree.tree"
   ]
  },
  {
   "cell_type": "code",
   "execution_count": 81,
   "outputs": [
    {
     "data": {
      "text/plain": "                                                name  gender      pids  mid  \\\nid                                                                            \n1                                   Михаил Федорович    male       [2]   -1   \n2                       Евдокия Лукьяновна Стрешнева  female       [1]   -1   \n3                                 Алексей Михайлович    male    [4, 5]    1   \n4                       Мария Ильинична Милославская  female       [3]   -1   \n5                       Наталья Кирилловна Нарышкина  female       [3]   -1   \n6                                   Федор Алексеевич    male       [9]    3   \n7                                   Софья Алексеевна  female        []    3   \n8                                 Иоанн V Алексеевич    male      [10]    3   \n9                          Марфа Матвеевна Апраксина  female       [6]   -1   \n10                     Прасковья Федоровна Салтыкова  female       [8]   -1   \n11                                Екатерина Иоановна  female      [13]    8   \n12                                     Анна Иоановна  female      [14]    8   \n13               Карл Леопольд Мекленбург-Шверенский    male      [11]   -1   \n14                     Фридрих Вильгельм Курляндский    male      [12]   -1   \n15                                 Анна Леопольдовна  female      [16]   13   \n16        Антон Ульрих Брауншвейг-Вольфенбюттельский    male      [15]   -1   \n17                                Иоанн VI Антонович    male        []   15   \n18                                 Петр I Алексеевич    male  [19, 20]    3   \n19                       Еводокия Федоровна Лопухина  female      [18]   -1   \n20                            Екатерина I Алексеевна  female      [18]   -1   \n21                                  Алексей Петрович    male      [22]   18   \n22  Наталья Алексеевна Брауншвейг-Вольфенбюттельская  female      [21]   -1   \n23                                Петр II Алексеевич    male        []   22   \n24                                     Анна Петровна  female      [26]   18   \n25                               Елизавета  Петровна  female        []   18   \n26             Карл Фридрих Гольштейн-Готторпсикй       male      [24]   -1   \n27                                 Петр II Федорович    male      [28]   26   \n28                           Екатерина II Алексеевна  female      [27]   -1   \n29                                  Павел I Петрович    male  [30, 31]   27   \n30            Наталья Алексеевна Гессен-Дармштадская  female      [29]   -1   \n31                    Мария Федоровна Вюртембергская  female      [29]   -1   \n32                              Александр I Павлович    male      [34]   29   \n33                                Николай I Павлович    male      [35]   29   \n34             Елизавета Алексеевна Баден-Дурлахская  female      [32]   -1   \n35                     Александра Федоровна Прусская  female      [33]   -1   \n36                           Александр II Николаевич    male      [37]   33   \n37                    Мария Александровна Гессенская  female      [36]   -1   \n38                       Александр III Александрович    male      [39]   36   \n39                           Мария Федоровна Датская  female      [38]   -1   \n40                          Николай II Александрович    male      [41]   38   \n41                   Александра Федоровна Гессенская  female      [40]   -1   \n\n    fid           cids rank  \nid                           \n1    -1            [3]    0  \n2    -1            [3]    0  \n3     2  [6, 7, 8, 18]    1  \n4    -1      [6, 7, 8]    1  \n5    -1           [18]    1  \n6     4             []    2  \n7     4             []    2  \n8     4       [11, 12]    2  \n9    -1             []    2  \n10   -1       [11, 12]    2  \n11   10           [15]    3  \n12   10             []    3  \n13   -1           [15]    3  \n14   -1             []    3  \n15   11           [17]    4  \n16   -1           [17]    4  \n17   16             []    5  \n18    5   [21, 24, 25]    2  \n19   -1           [21]    2  \n20   -1       [24, 25]    2  \n21   19           [23]    3  \n22   -1           [23]    3  \n23   21             []    4  \n24   20           [27]    3  \n25   20             []    3  \n26   -1           [27]    3  \n27   24           [29]    4  \n28   -1           [29]    4  \n29   28       [32, 33]    5  \n30   -1       [32, 33]    5  \n31   -1             []    5  \n32   30             []    6  \n33   30           [36]    6  \n34   -1             []    6  \n35   -1           [36]    6  \n36   35           [38]    7  \n37   -1           [38]    7  \n38   37           [40]    8  \n39   -1           [40]    8  \n40   39             []    9  \n41   -1             []    9  ",
      "text/html": "<div>\n<style scoped>\n    .dataframe tbody tr th:only-of-type {\n        vertical-align: middle;\n    }\n\n    .dataframe tbody tr th {\n        vertical-align: top;\n    }\n\n    .dataframe thead th {\n        text-align: right;\n    }\n</style>\n<table border=\"1\" class=\"dataframe\">\n  <thead>\n    <tr style=\"text-align: right;\">\n      <th></th>\n      <th>name</th>\n      <th>gender</th>\n      <th>pids</th>\n      <th>mid</th>\n      <th>fid</th>\n      <th>cids</th>\n      <th>rank</th>\n    </tr>\n    <tr>\n      <th>id</th>\n      <th></th>\n      <th></th>\n      <th></th>\n      <th></th>\n      <th></th>\n      <th></th>\n      <th></th>\n    </tr>\n  </thead>\n  <tbody>\n    <tr>\n      <th>1</th>\n      <td>Михаил Федорович</td>\n      <td>male</td>\n      <td>[2]</td>\n      <td>-1</td>\n      <td>-1</td>\n      <td>[3]</td>\n      <td>0</td>\n    </tr>\n    <tr>\n      <th>2</th>\n      <td>Евдокия Лукьяновна Стрешнева</td>\n      <td>female</td>\n      <td>[1]</td>\n      <td>-1</td>\n      <td>-1</td>\n      <td>[3]</td>\n      <td>0</td>\n    </tr>\n    <tr>\n      <th>3</th>\n      <td>Алексей Михайлович</td>\n      <td>male</td>\n      <td>[4, 5]</td>\n      <td>1</td>\n      <td>2</td>\n      <td>[6, 7, 8, 18]</td>\n      <td>1</td>\n    </tr>\n    <tr>\n      <th>4</th>\n      <td>Мария Ильинична Милославская</td>\n      <td>female</td>\n      <td>[3]</td>\n      <td>-1</td>\n      <td>-1</td>\n      <td>[6, 7, 8]</td>\n      <td>1</td>\n    </tr>\n    <tr>\n      <th>5</th>\n      <td>Наталья Кирилловна Нарышкина</td>\n      <td>female</td>\n      <td>[3]</td>\n      <td>-1</td>\n      <td>-1</td>\n      <td>[18]</td>\n      <td>1</td>\n    </tr>\n    <tr>\n      <th>6</th>\n      <td>Федор Алексеевич</td>\n      <td>male</td>\n      <td>[9]</td>\n      <td>3</td>\n      <td>4</td>\n      <td>[]</td>\n      <td>2</td>\n    </tr>\n    <tr>\n      <th>7</th>\n      <td>Софья Алексеевна</td>\n      <td>female</td>\n      <td>[]</td>\n      <td>3</td>\n      <td>4</td>\n      <td>[]</td>\n      <td>2</td>\n    </tr>\n    <tr>\n      <th>8</th>\n      <td>Иоанн V Алексеевич</td>\n      <td>male</td>\n      <td>[10]</td>\n      <td>3</td>\n      <td>4</td>\n      <td>[11, 12]</td>\n      <td>2</td>\n    </tr>\n    <tr>\n      <th>9</th>\n      <td>Марфа Матвеевна Апраксина</td>\n      <td>female</td>\n      <td>[6]</td>\n      <td>-1</td>\n      <td>-1</td>\n      <td>[]</td>\n      <td>2</td>\n    </tr>\n    <tr>\n      <th>10</th>\n      <td>Прасковья Федоровна Салтыкова</td>\n      <td>female</td>\n      <td>[8]</td>\n      <td>-1</td>\n      <td>-1</td>\n      <td>[11, 12]</td>\n      <td>2</td>\n    </tr>\n    <tr>\n      <th>11</th>\n      <td>Екатерина Иоановна</td>\n      <td>female</td>\n      <td>[13]</td>\n      <td>8</td>\n      <td>10</td>\n      <td>[15]</td>\n      <td>3</td>\n    </tr>\n    <tr>\n      <th>12</th>\n      <td>Анна Иоановна</td>\n      <td>female</td>\n      <td>[14]</td>\n      <td>8</td>\n      <td>10</td>\n      <td>[]</td>\n      <td>3</td>\n    </tr>\n    <tr>\n      <th>13</th>\n      <td>Карл Леопольд Мекленбург-Шверенский</td>\n      <td>male</td>\n      <td>[11]</td>\n      <td>-1</td>\n      <td>-1</td>\n      <td>[15]</td>\n      <td>3</td>\n    </tr>\n    <tr>\n      <th>14</th>\n      <td>Фридрих Вильгельм Курляндский</td>\n      <td>male</td>\n      <td>[12]</td>\n      <td>-1</td>\n      <td>-1</td>\n      <td>[]</td>\n      <td>3</td>\n    </tr>\n    <tr>\n      <th>15</th>\n      <td>Анна Леопольдовна</td>\n      <td>female</td>\n      <td>[16]</td>\n      <td>13</td>\n      <td>11</td>\n      <td>[17]</td>\n      <td>4</td>\n    </tr>\n    <tr>\n      <th>16</th>\n      <td>Антон Ульрих Брауншвейг-Вольфенбюттельский</td>\n      <td>male</td>\n      <td>[15]</td>\n      <td>-1</td>\n      <td>-1</td>\n      <td>[17]</td>\n      <td>4</td>\n    </tr>\n    <tr>\n      <th>17</th>\n      <td>Иоанн VI Антонович</td>\n      <td>male</td>\n      <td>[]</td>\n      <td>15</td>\n      <td>16</td>\n      <td>[]</td>\n      <td>5</td>\n    </tr>\n    <tr>\n      <th>18</th>\n      <td>Петр I Алексеевич</td>\n      <td>male</td>\n      <td>[19, 20]</td>\n      <td>3</td>\n      <td>5</td>\n      <td>[21, 24, 25]</td>\n      <td>2</td>\n    </tr>\n    <tr>\n      <th>19</th>\n      <td>Еводокия Федоровна Лопухина</td>\n      <td>female</td>\n      <td>[18]</td>\n      <td>-1</td>\n      <td>-1</td>\n      <td>[21]</td>\n      <td>2</td>\n    </tr>\n    <tr>\n      <th>20</th>\n      <td>Екатерина I Алексеевна</td>\n      <td>female</td>\n      <td>[18]</td>\n      <td>-1</td>\n      <td>-1</td>\n      <td>[24, 25]</td>\n      <td>2</td>\n    </tr>\n    <tr>\n      <th>21</th>\n      <td>Алексей Петрович</td>\n      <td>male</td>\n      <td>[22]</td>\n      <td>18</td>\n      <td>19</td>\n      <td>[23]</td>\n      <td>3</td>\n    </tr>\n    <tr>\n      <th>22</th>\n      <td>Наталья Алексеевна Брауншвейг-Вольфенбюттельская</td>\n      <td>female</td>\n      <td>[21]</td>\n      <td>-1</td>\n      <td>-1</td>\n      <td>[23]</td>\n      <td>3</td>\n    </tr>\n    <tr>\n      <th>23</th>\n      <td>Петр II Алексеевич</td>\n      <td>male</td>\n      <td>[]</td>\n      <td>22</td>\n      <td>21</td>\n      <td>[]</td>\n      <td>4</td>\n    </tr>\n    <tr>\n      <th>24</th>\n      <td>Анна Петровна</td>\n      <td>female</td>\n      <td>[26]</td>\n      <td>18</td>\n      <td>20</td>\n      <td>[27]</td>\n      <td>3</td>\n    </tr>\n    <tr>\n      <th>25</th>\n      <td>Елизавета  Петровна</td>\n      <td>female</td>\n      <td>[]</td>\n      <td>18</td>\n      <td>20</td>\n      <td>[]</td>\n      <td>3</td>\n    </tr>\n    <tr>\n      <th>26</th>\n      <td>Карл Фридрих Гольштейн-Готторпсикй</td>\n      <td>male</td>\n      <td>[24]</td>\n      <td>-1</td>\n      <td>-1</td>\n      <td>[27]</td>\n      <td>3</td>\n    </tr>\n    <tr>\n      <th>27</th>\n      <td>Петр II Федорович</td>\n      <td>male</td>\n      <td>[28]</td>\n      <td>26</td>\n      <td>24</td>\n      <td>[29]</td>\n      <td>4</td>\n    </tr>\n    <tr>\n      <th>28</th>\n      <td>Екатерина II Алексеевна</td>\n      <td>female</td>\n      <td>[27]</td>\n      <td>-1</td>\n      <td>-1</td>\n      <td>[29]</td>\n      <td>4</td>\n    </tr>\n    <tr>\n      <th>29</th>\n      <td>Павел I Петрович</td>\n      <td>male</td>\n      <td>[30, 31]</td>\n      <td>27</td>\n      <td>28</td>\n      <td>[32, 33]</td>\n      <td>5</td>\n    </tr>\n    <tr>\n      <th>30</th>\n      <td>Наталья Алексеевна Гессен-Дармштадская</td>\n      <td>female</td>\n      <td>[29]</td>\n      <td>-1</td>\n      <td>-1</td>\n      <td>[32, 33]</td>\n      <td>5</td>\n    </tr>\n    <tr>\n      <th>31</th>\n      <td>Мария Федоровна Вюртембергская</td>\n      <td>female</td>\n      <td>[29]</td>\n      <td>-1</td>\n      <td>-1</td>\n      <td>[]</td>\n      <td>5</td>\n    </tr>\n    <tr>\n      <th>32</th>\n      <td>Александр I Павлович</td>\n      <td>male</td>\n      <td>[34]</td>\n      <td>29</td>\n      <td>30</td>\n      <td>[]</td>\n      <td>6</td>\n    </tr>\n    <tr>\n      <th>33</th>\n      <td>Николай I Павлович</td>\n      <td>male</td>\n      <td>[35]</td>\n      <td>29</td>\n      <td>30</td>\n      <td>[36]</td>\n      <td>6</td>\n    </tr>\n    <tr>\n      <th>34</th>\n      <td>Елизавета Алексеевна Баден-Дурлахская</td>\n      <td>female</td>\n      <td>[32]</td>\n      <td>-1</td>\n      <td>-1</td>\n      <td>[]</td>\n      <td>6</td>\n    </tr>\n    <tr>\n      <th>35</th>\n      <td>Александра Федоровна Прусская</td>\n      <td>female</td>\n      <td>[33]</td>\n      <td>-1</td>\n      <td>-1</td>\n      <td>[36]</td>\n      <td>6</td>\n    </tr>\n    <tr>\n      <th>36</th>\n      <td>Александр II Николаевич</td>\n      <td>male</td>\n      <td>[37]</td>\n      <td>33</td>\n      <td>35</td>\n      <td>[38]</td>\n      <td>7</td>\n    </tr>\n    <tr>\n      <th>37</th>\n      <td>Мария Александровна Гессенская</td>\n      <td>female</td>\n      <td>[36]</td>\n      <td>-1</td>\n      <td>-1</td>\n      <td>[38]</td>\n      <td>7</td>\n    </tr>\n    <tr>\n      <th>38</th>\n      <td>Александр III Александрович</td>\n      <td>male</td>\n      <td>[39]</td>\n      <td>36</td>\n      <td>37</td>\n      <td>[40]</td>\n      <td>8</td>\n    </tr>\n    <tr>\n      <th>39</th>\n      <td>Мария Федоровна Датская</td>\n      <td>female</td>\n      <td>[38]</td>\n      <td>-1</td>\n      <td>-1</td>\n      <td>[40]</td>\n      <td>8</td>\n    </tr>\n    <tr>\n      <th>40</th>\n      <td>Николай II Александрович</td>\n      <td>male</td>\n      <td>[41]</td>\n      <td>38</td>\n      <td>39</td>\n      <td>[]</td>\n      <td>9</td>\n    </tr>\n    <tr>\n      <th>41</th>\n      <td>Александра Федоровна Гессенская</td>\n      <td>female</td>\n      <td>[40]</td>\n      <td>-1</td>\n      <td>-1</td>\n      <td>[]</td>\n      <td>9</td>\n    </tr>\n  </tbody>\n</table>\n</div>"
     },
     "execution_count": 81,
     "metadata": {},
     "output_type": "execute_result"
    }
   ],
   "source": [
    "family_tree.get_dataframe()"
   ],
   "metadata": {
    "collapsed": false,
    "pycharm": {
     "name": "#%%\n"
    }
   }
  },
  {
   "cell_type": "code",
   "execution_count": 82,
   "outputs": [
    {
     "data": {
      "text/plain": "                                                name  gender rank\nid                                                               \n1                                   Михаил Федорович    male    0\n2                       Евдокия Лукьяновна Стрешнева  female    0\n3                                 Алексей Михайлович    male    1\n4                       Мария Ильинична Милославская  female    1\n5                       Наталья Кирилловна Нарышкина  female    1\n6                                   Федор Алексеевич    male    2\n7                                   Софья Алексеевна  female    2\n8                                 Иоанн V Алексеевич    male    2\n9                          Марфа Матвеевна Апраксина  female    2\n10                     Прасковья Федоровна Салтыкова  female    2\n11                                Екатерина Иоановна  female    3\n12                                     Анна Иоановна  female    3\n13               Карл Леопольд Мекленбург-Шверенский    male    3\n14                     Фридрих Вильгельм Курляндский    male    3\n15                                 Анна Леопольдовна  female    4\n16        Антон Ульрих Брауншвейг-Вольфенбюттельский    male    4\n17                                Иоанн VI Антонович    male    5\n18                                 Петр I Алексеевич    male    2\n19                       Еводокия Федоровна Лопухина  female    2\n20                            Екатерина I Алексеевна  female    2\n21                                  Алексей Петрович    male    3\n22  Наталья Алексеевна Брауншвейг-Вольфенбюттельская  female    3\n23                                Петр II Алексеевич    male    4\n24                                     Анна Петровна  female    3\n25                               Елизавета  Петровна  female    3\n26             Карл Фридрих Гольштейн-Готторпсикй       male    3\n27                                 Петр II Федорович    male    4\n28                           Екатерина II Алексеевна  female    4\n29                                  Павел I Петрович    male    5\n30            Наталья Алексеевна Гессен-Дармштадская  female    5\n31                    Мария Федоровна Вюртембергская  female    5\n32                              Александр I Павлович    male    6\n33                                Николай I Павлович    male    6\n34             Елизавета Алексеевна Баден-Дурлахская  female    6\n35                     Александра Федоровна Прусская  female    6\n36                           Александр II Николаевич    male    7\n37                    Мария Александровна Гессенская  female    7\n38                       Александр III Александрович    male    8\n39                           Мария Федоровна Датская  female    8\n40                          Николай II Александрович    male    9\n41                   Александра Федоровна Гессенская  female    9",
      "text/html": "<div>\n<style scoped>\n    .dataframe tbody tr th:only-of-type {\n        vertical-align: middle;\n    }\n\n    .dataframe tbody tr th {\n        vertical-align: top;\n    }\n\n    .dataframe thead th {\n        text-align: right;\n    }\n</style>\n<table border=\"1\" class=\"dataframe\">\n  <thead>\n    <tr style=\"text-align: right;\">\n      <th></th>\n      <th>name</th>\n      <th>gender</th>\n      <th>rank</th>\n    </tr>\n    <tr>\n      <th>id</th>\n      <th></th>\n      <th></th>\n      <th></th>\n    </tr>\n  </thead>\n  <tbody>\n    <tr>\n      <th>1</th>\n      <td>Михаил Федорович</td>\n      <td>male</td>\n      <td>0</td>\n    </tr>\n    <tr>\n      <th>2</th>\n      <td>Евдокия Лукьяновна Стрешнева</td>\n      <td>female</td>\n      <td>0</td>\n    </tr>\n    <tr>\n      <th>3</th>\n      <td>Алексей Михайлович</td>\n      <td>male</td>\n      <td>1</td>\n    </tr>\n    <tr>\n      <th>4</th>\n      <td>Мария Ильинична Милославская</td>\n      <td>female</td>\n      <td>1</td>\n    </tr>\n    <tr>\n      <th>5</th>\n      <td>Наталья Кирилловна Нарышкина</td>\n      <td>female</td>\n      <td>1</td>\n    </tr>\n    <tr>\n      <th>6</th>\n      <td>Федор Алексеевич</td>\n      <td>male</td>\n      <td>2</td>\n    </tr>\n    <tr>\n      <th>7</th>\n      <td>Софья Алексеевна</td>\n      <td>female</td>\n      <td>2</td>\n    </tr>\n    <tr>\n      <th>8</th>\n      <td>Иоанн V Алексеевич</td>\n      <td>male</td>\n      <td>2</td>\n    </tr>\n    <tr>\n      <th>9</th>\n      <td>Марфа Матвеевна Апраксина</td>\n      <td>female</td>\n      <td>2</td>\n    </tr>\n    <tr>\n      <th>10</th>\n      <td>Прасковья Федоровна Салтыкова</td>\n      <td>female</td>\n      <td>2</td>\n    </tr>\n    <tr>\n      <th>11</th>\n      <td>Екатерина Иоановна</td>\n      <td>female</td>\n      <td>3</td>\n    </tr>\n    <tr>\n      <th>12</th>\n      <td>Анна Иоановна</td>\n      <td>female</td>\n      <td>3</td>\n    </tr>\n    <tr>\n      <th>13</th>\n      <td>Карл Леопольд Мекленбург-Шверенский</td>\n      <td>male</td>\n      <td>3</td>\n    </tr>\n    <tr>\n      <th>14</th>\n      <td>Фридрих Вильгельм Курляндский</td>\n      <td>male</td>\n      <td>3</td>\n    </tr>\n    <tr>\n      <th>15</th>\n      <td>Анна Леопольдовна</td>\n      <td>female</td>\n      <td>4</td>\n    </tr>\n    <tr>\n      <th>16</th>\n      <td>Антон Ульрих Брауншвейг-Вольфенбюттельский</td>\n      <td>male</td>\n      <td>4</td>\n    </tr>\n    <tr>\n      <th>17</th>\n      <td>Иоанн VI Антонович</td>\n      <td>male</td>\n      <td>5</td>\n    </tr>\n    <tr>\n      <th>18</th>\n      <td>Петр I Алексеевич</td>\n      <td>male</td>\n      <td>2</td>\n    </tr>\n    <tr>\n      <th>19</th>\n      <td>Еводокия Федоровна Лопухина</td>\n      <td>female</td>\n      <td>2</td>\n    </tr>\n    <tr>\n      <th>20</th>\n      <td>Екатерина I Алексеевна</td>\n      <td>female</td>\n      <td>2</td>\n    </tr>\n    <tr>\n      <th>21</th>\n      <td>Алексей Петрович</td>\n      <td>male</td>\n      <td>3</td>\n    </tr>\n    <tr>\n      <th>22</th>\n      <td>Наталья Алексеевна Брауншвейг-Вольфенбюттельская</td>\n      <td>female</td>\n      <td>3</td>\n    </tr>\n    <tr>\n      <th>23</th>\n      <td>Петр II Алексеевич</td>\n      <td>male</td>\n      <td>4</td>\n    </tr>\n    <tr>\n      <th>24</th>\n      <td>Анна Петровна</td>\n      <td>female</td>\n      <td>3</td>\n    </tr>\n    <tr>\n      <th>25</th>\n      <td>Елизавета  Петровна</td>\n      <td>female</td>\n      <td>3</td>\n    </tr>\n    <tr>\n      <th>26</th>\n      <td>Карл Фридрих Гольштейн-Готторпсикй</td>\n      <td>male</td>\n      <td>3</td>\n    </tr>\n    <tr>\n      <th>27</th>\n      <td>Петр II Федорович</td>\n      <td>male</td>\n      <td>4</td>\n    </tr>\n    <tr>\n      <th>28</th>\n      <td>Екатерина II Алексеевна</td>\n      <td>female</td>\n      <td>4</td>\n    </tr>\n    <tr>\n      <th>29</th>\n      <td>Павел I Петрович</td>\n      <td>male</td>\n      <td>5</td>\n    </tr>\n    <tr>\n      <th>30</th>\n      <td>Наталья Алексеевна Гессен-Дармштадская</td>\n      <td>female</td>\n      <td>5</td>\n    </tr>\n    <tr>\n      <th>31</th>\n      <td>Мария Федоровна Вюртембергская</td>\n      <td>female</td>\n      <td>5</td>\n    </tr>\n    <tr>\n      <th>32</th>\n      <td>Александр I Павлович</td>\n      <td>male</td>\n      <td>6</td>\n    </tr>\n    <tr>\n      <th>33</th>\n      <td>Николай I Павлович</td>\n      <td>male</td>\n      <td>6</td>\n    </tr>\n    <tr>\n      <th>34</th>\n      <td>Елизавета Алексеевна Баден-Дурлахская</td>\n      <td>female</td>\n      <td>6</td>\n    </tr>\n    <tr>\n      <th>35</th>\n      <td>Александра Федоровна Прусская</td>\n      <td>female</td>\n      <td>6</td>\n    </tr>\n    <tr>\n      <th>36</th>\n      <td>Александр II Николаевич</td>\n      <td>male</td>\n      <td>7</td>\n    </tr>\n    <tr>\n      <th>37</th>\n      <td>Мария Александровна Гессенская</td>\n      <td>female</td>\n      <td>7</td>\n    </tr>\n    <tr>\n      <th>38</th>\n      <td>Александр III Александрович</td>\n      <td>male</td>\n      <td>8</td>\n    </tr>\n    <tr>\n      <th>39</th>\n      <td>Мария Федоровна Датская</td>\n      <td>female</td>\n      <td>8</td>\n    </tr>\n    <tr>\n      <th>40</th>\n      <td>Николай II Александрович</td>\n      <td>male</td>\n      <td>9</td>\n    </tr>\n    <tr>\n      <th>41</th>\n      <td>Александра Федоровна Гессенская</td>\n      <td>female</td>\n      <td>9</td>\n    </tr>\n  </tbody>\n</table>\n</div>"
     },
     "execution_count": 82,
     "metadata": {},
     "output_type": "execute_result"
    }
   ],
   "source": [
    "family_tree.get_persons_df()"
   ],
   "metadata": {
    "collapsed": false,
    "pycharm": {
     "name": "#%%\n"
    }
   }
  },
  {
   "cell_type": "code",
   "execution_count": 83,
   "outputs": [
    {
     "data": {
      "text/plain": "        pids           cids\nid                         \n1        [2]            [3]\n2        [1]            [3]\n3     [4, 5]  [6, 7, 8, 18]\n4        [3]      [6, 7, 8]\n5        [3]           [18]\n6        [9]             []\n7         []             []\n8       [10]       [11, 12]\n9        [6]             []\n10       [8]       [11, 12]\n11      [13]           [15]\n12      [14]             []\n13      [11]           [15]\n14      [12]             []\n15      [16]           [17]\n16      [15]           [17]\n17        []             []\n18  [19, 20]   [21, 24, 25]\n19      [18]           [21]\n20      [18]       [24, 25]\n21      [22]           [23]\n22      [21]           [23]\n23        []             []\n24      [26]           [27]\n25        []             []\n26      [24]           [27]\n27      [28]           [29]\n28      [27]           [29]\n29  [30, 31]       [32, 33]\n30      [29]       [32, 33]\n31      [29]             []\n32      [34]             []\n33      [35]           [36]\n34      [32]             []\n35      [33]           [36]\n36      [37]           [38]\n37      [36]           [38]\n38      [39]           [40]\n39      [38]           [40]\n40      [41]             []\n41      [40]             []",
      "text/html": "<div>\n<style scoped>\n    .dataframe tbody tr th:only-of-type {\n        vertical-align: middle;\n    }\n\n    .dataframe tbody tr th {\n        vertical-align: top;\n    }\n\n    .dataframe thead th {\n        text-align: right;\n    }\n</style>\n<table border=\"1\" class=\"dataframe\">\n  <thead>\n    <tr style=\"text-align: right;\">\n      <th></th>\n      <th>pids</th>\n      <th>cids</th>\n    </tr>\n    <tr>\n      <th>id</th>\n      <th></th>\n      <th></th>\n    </tr>\n  </thead>\n  <tbody>\n    <tr>\n      <th>1</th>\n      <td>[2]</td>\n      <td>[3]</td>\n    </tr>\n    <tr>\n      <th>2</th>\n      <td>[1]</td>\n      <td>[3]</td>\n    </tr>\n    <tr>\n      <th>3</th>\n      <td>[4, 5]</td>\n      <td>[6, 7, 8, 18]</td>\n    </tr>\n    <tr>\n      <th>4</th>\n      <td>[3]</td>\n      <td>[6, 7, 8]</td>\n    </tr>\n    <tr>\n      <th>5</th>\n      <td>[3]</td>\n      <td>[18]</td>\n    </tr>\n    <tr>\n      <th>6</th>\n      <td>[9]</td>\n      <td>[]</td>\n    </tr>\n    <tr>\n      <th>7</th>\n      <td>[]</td>\n      <td>[]</td>\n    </tr>\n    <tr>\n      <th>8</th>\n      <td>[10]</td>\n      <td>[11, 12]</td>\n    </tr>\n    <tr>\n      <th>9</th>\n      <td>[6]</td>\n      <td>[]</td>\n    </tr>\n    <tr>\n      <th>10</th>\n      <td>[8]</td>\n      <td>[11, 12]</td>\n    </tr>\n    <tr>\n      <th>11</th>\n      <td>[13]</td>\n      <td>[15]</td>\n    </tr>\n    <tr>\n      <th>12</th>\n      <td>[14]</td>\n      <td>[]</td>\n    </tr>\n    <tr>\n      <th>13</th>\n      <td>[11]</td>\n      <td>[15]</td>\n    </tr>\n    <tr>\n      <th>14</th>\n      <td>[12]</td>\n      <td>[]</td>\n    </tr>\n    <tr>\n      <th>15</th>\n      <td>[16]</td>\n      <td>[17]</td>\n    </tr>\n    <tr>\n      <th>16</th>\n      <td>[15]</td>\n      <td>[17]</td>\n    </tr>\n    <tr>\n      <th>17</th>\n      <td>[]</td>\n      <td>[]</td>\n    </tr>\n    <tr>\n      <th>18</th>\n      <td>[19, 20]</td>\n      <td>[21, 24, 25]</td>\n    </tr>\n    <tr>\n      <th>19</th>\n      <td>[18]</td>\n      <td>[21]</td>\n    </tr>\n    <tr>\n      <th>20</th>\n      <td>[18]</td>\n      <td>[24, 25]</td>\n    </tr>\n    <tr>\n      <th>21</th>\n      <td>[22]</td>\n      <td>[23]</td>\n    </tr>\n    <tr>\n      <th>22</th>\n      <td>[21]</td>\n      <td>[23]</td>\n    </tr>\n    <tr>\n      <th>23</th>\n      <td>[]</td>\n      <td>[]</td>\n    </tr>\n    <tr>\n      <th>24</th>\n      <td>[26]</td>\n      <td>[27]</td>\n    </tr>\n    <tr>\n      <th>25</th>\n      <td>[]</td>\n      <td>[]</td>\n    </tr>\n    <tr>\n      <th>26</th>\n      <td>[24]</td>\n      <td>[27]</td>\n    </tr>\n    <tr>\n      <th>27</th>\n      <td>[28]</td>\n      <td>[29]</td>\n    </tr>\n    <tr>\n      <th>28</th>\n      <td>[27]</td>\n      <td>[29]</td>\n    </tr>\n    <tr>\n      <th>29</th>\n      <td>[30, 31]</td>\n      <td>[32, 33]</td>\n    </tr>\n    <tr>\n      <th>30</th>\n      <td>[29]</td>\n      <td>[32, 33]</td>\n    </tr>\n    <tr>\n      <th>31</th>\n      <td>[29]</td>\n      <td>[]</td>\n    </tr>\n    <tr>\n      <th>32</th>\n      <td>[34]</td>\n      <td>[]</td>\n    </tr>\n    <tr>\n      <th>33</th>\n      <td>[35]</td>\n      <td>[36]</td>\n    </tr>\n    <tr>\n      <th>34</th>\n      <td>[32]</td>\n      <td>[]</td>\n    </tr>\n    <tr>\n      <th>35</th>\n      <td>[33]</td>\n      <td>[36]</td>\n    </tr>\n    <tr>\n      <th>36</th>\n      <td>[37]</td>\n      <td>[38]</td>\n    </tr>\n    <tr>\n      <th>37</th>\n      <td>[36]</td>\n      <td>[38]</td>\n    </tr>\n    <tr>\n      <th>38</th>\n      <td>[39]</td>\n      <td>[40]</td>\n    </tr>\n    <tr>\n      <th>39</th>\n      <td>[38]</td>\n      <td>[40]</td>\n    </tr>\n    <tr>\n      <th>40</th>\n      <td>[41]</td>\n      <td>[]</td>\n    </tr>\n    <tr>\n      <th>41</th>\n      <td>[40]</td>\n      <td>[]</td>\n    </tr>\n  </tbody>\n</table>\n</div>"
     },
     "execution_count": 83,
     "metadata": {},
     "output_type": "execute_result"
    }
   ],
   "source": [
    "family_tree.get_links_df()"
   ],
   "metadata": {
    "collapsed": false,
    "pycharm": {
     "name": "#%%\n"
    }
   }
  },
  {
   "cell_type": "code",
   "execution_count": 84,
   "outputs": [
    {
     "data": {
      "text/plain": "           target_id\nsource_id           \n1                  2\n1                  3\n2                  1\n2                  3\n3                  4\n...              ...\n38                40\n39                38\n39                40\n40                41\n41                40\n\n[80 rows x 1 columns]",
      "text/html": "<div>\n<style scoped>\n    .dataframe tbody tr th:only-of-type {\n        vertical-align: middle;\n    }\n\n    .dataframe tbody tr th {\n        vertical-align: top;\n    }\n\n    .dataframe thead th {\n        text-align: right;\n    }\n</style>\n<table border=\"1\" class=\"dataframe\">\n  <thead>\n    <tr style=\"text-align: right;\">\n      <th></th>\n      <th>target_id</th>\n    </tr>\n    <tr>\n      <th>source_id</th>\n      <th></th>\n    </tr>\n  </thead>\n  <tbody>\n    <tr>\n      <th>1</th>\n      <td>2</td>\n    </tr>\n    <tr>\n      <th>1</th>\n      <td>3</td>\n    </tr>\n    <tr>\n      <th>2</th>\n      <td>1</td>\n    </tr>\n    <tr>\n      <th>2</th>\n      <td>3</td>\n    </tr>\n    <tr>\n      <th>3</th>\n      <td>4</td>\n    </tr>\n    <tr>\n      <th>...</th>\n      <td>...</td>\n    </tr>\n    <tr>\n      <th>38</th>\n      <td>40</td>\n    </tr>\n    <tr>\n      <th>39</th>\n      <td>38</td>\n    </tr>\n    <tr>\n      <th>39</th>\n      <td>40</td>\n    </tr>\n    <tr>\n      <th>40</th>\n      <td>41</td>\n    </tr>\n    <tr>\n      <th>41</th>\n      <td>40</td>\n    </tr>\n  </tbody>\n</table>\n<p>80 rows × 1 columns</p>\n</div>"
     },
     "execution_count": 84,
     "metadata": {},
     "output_type": "execute_result"
    }
   ],
   "source": [
    "family_tree.get_links_pair_df()"
   ],
   "metadata": {
    "collapsed": false,
    "pycharm": {
     "name": "#%%\n"
    }
   }
  },
  {
   "cell_type": "code",
   "execution_count": null,
   "outputs": [],
   "source": [],
   "metadata": {
    "collapsed": false,
    "pycharm": {
     "name": "#%%\n"
    }
   }
  }
 ],
 "metadata": {
  "kernelspec": {
   "display_name": "Python 3 (ipykernel)",
   "language": "python",
   "name": "python3"
  },
  "language_info": {
   "codemirror_mode": {
    "name": "ipython",
    "version": 3
   },
   "file_extension": ".py",
   "mimetype": "text/x-python",
   "name": "python",
   "nbconvert_exporter": "python",
   "pygments_lexer": "ipython3",
   "version": "3.9.7"
  }
 },
 "nbformat": 4,
 "nbformat_minor": 1
}
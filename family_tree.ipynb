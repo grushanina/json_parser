{
 "cells": [
  {
   "cell_type": "code",
   "execution_count": 1,
   "metadata": {
    "collapsed": true
   },
   "outputs": [],
   "source": [
    "from IPython.core.display import display, HTML\n",
    "from string import Template\n",
    "import pandas as pd\n",
    "import json, random\n",
    "import numpy as np"
   ]
  },
  {
   "cell_type": "code",
   "execution_count": 2,
   "outputs": [],
   "source": [
    "def open_json(filename):\n",
    "    with open(filename, \"r\", encoding=\"utf-8\") as read_file:\n",
    "        data = json.load(read_file)\n",
    "    return data"
   ],
   "metadata": {
    "collapsed": false,
    "pycharm": {
     "name": "#%%\n"
    }
   }
  },
  {
   "cell_type": "code",
   "execution_count": 94,
   "outputs": [],
   "source": [
    "class Person:\n",
    "    def __init__(self, dictionary):\n",
    "        self.id = dictionary['id']\n",
    "        self.name = dictionary['name']\n",
    "        self.gender = dictionary['gender']\n",
    "        if 'pids' in dictionary.keys():\n",
    "            self.pids = dictionary['pids']\n",
    "        if 'mid' in dictionary.keys():\n",
    "            self.mid = dictionary['mid']\n",
    "        if 'fid' in dictionary.keys():\n",
    "            self.fid = dictionary['fid']\n",
    "        self.cids = []\n",
    "        self.rank = -1\n",
    "\n",
    "    def __repr__(self):\n",
    "        result = str(self.id) + ', ' + self.name + ', ' + self.gender\n",
    "        if hasattr(self, 'pids'):\n",
    "            result += ', ' + str(self.pids)\n",
    "        if hasattr(self, 'mid'):\n",
    "            result += ', ' + str(self.mid)\n",
    "        if hasattr(self, 'fid'):\n",
    "            result += ', ' + str(self.fid)\n",
    "        if len(self.cids) != 0:\n",
    "            result += ', ' + str(self.cids)\n",
    "        result += ', ' + str(self.rank)\n",
    "        return '{' + result + '}'"
   ],
   "metadata": {
    "collapsed": false,
    "pycharm": {
     "name": "#%%\n"
    }
   }
  },
  {
   "cell_type": "code",
   "execution_count": 105,
   "outputs": [],
   "source": [
    "def get_all_rank(tree, rank):\n",
    "    result = []\n",
    "    for id in tree:\n",
    "        if tree[id].rank == str(rank):\n",
    "            result.append(tree[id])\n",
    "    return result"
   ],
   "metadata": {
    "collapsed": false,
    "pycharm": {
     "name": "#%%\n"
    }
   }
  },
  {
   "cell_type": "code",
   "execution_count": 119,
   "outputs": [],
   "source": [
    "class FamilyTree:\n",
    "    def __init__(self, tree_list):\n",
    "        self.tree = {}\n",
    "        if type(tree_list) is list:\n",
    "            for node in tree_list:\n",
    "                if type(node) is dict:\n",
    "                    person = Person(node)\n",
    "                    self.tree.update({person.id: person})\n",
    "                else:\n",
    "                    print(\"List must contains dict!\")\n",
    "        else:\n",
    "            print(\"Tree must be list!\")\n",
    "        self.__add_children()\n",
    "        self.__add_rank()\n",
    "\n",
    "    def __add_children(self):\n",
    "        result = self.tree\n",
    "        for i in self.tree:\n",
    "            if hasattr(self.tree[i], \"mid\"):\n",
    "                result[self.tree[i].mid].cids.append(self.tree[i].id)\n",
    "            if hasattr(self.tree[i], \"fid\"):\n",
    "                result[self.tree[i].fid].cids.append(self.tree[i].id)\n",
    "        self.tree = result\n",
    "\n",
    "    def __add_rank(self):\n",
    "        result = self.tree\n",
    "        def add_rank_node(node, rank):\n",
    "            if node.rank == -1:\n",
    "                node.rank = str(rank)\n",
    "                if hasattr(node, 'pids'):\n",
    "                    for n in node.pids:\n",
    "                        add_rank_node(result[n], rank)\n",
    "            else:\n",
    "                rank+=1\n",
    "                if len(node.cids) != 0:\n",
    "                    for n in node.cids:\n",
    "                        add_rank_node(result[n], rank)\n",
    "        add_rank_node(result[1], 0)\n",
    "        self.tree = result"
   ],
   "metadata": {
    "collapsed": false,
    "pycharm": {
     "name": "#%%\n"
    }
   }
  },
  {
   "cell_type": "code",
   "execution_count": 120,
   "outputs": [
    {
     "data": {
      "text/plain": "{1: {1, Михаил Федорович, male, [2], [3], 0},\n 2: {2, Евдокия Лукьяновна Стрешнева, female, [1], [3], 0},\n 3: {3, Алексей Михайлович, male, [4, 5], 1, 2, [6, 7, 8, 18], 1},\n 4: {4, Мария Ильинична Милославская, female, [3], [6, 7, 8], 1},\n 5: {5, Наталья Кирилловна Нарышкина, female, [3], [18], 1},\n 6: {6, Федор Алексеевич, male, [9], 3, 4, 2},\n 7: {7, Софья Алексеевна, female, 3, 4, 2},\n 8: {8, Иоанн V Алексеевич, male, [10], 3, 4, [11, 12], 2},\n 9: {9, Марфа Матвеевна Апраксина, female, [6], 2},\n 10: {10, Прасковья Федоровна Салтыкова, female, [8], [11, 12], 2},\n 11: {11, Екатерина Иоановна, female, [13], 8, 10, [15], 3},\n 12: {12, Анна Иоановна, female, [14], 8, 10, 3},\n 13: {13, Карл Леопольд Мекленбург-Шверенский, male, [11], [15], 3},\n 14: {14, Фридрих Вильгельм Курляндский, male, [12], 3},\n 15: {15, Анна Леопольдовна, female, [16], 13, 11, [17], 4},\n 16: {16, Антон Ульрих Брауншвейг-Вольфенбюттельский, male, [15], [17], 4},\n 17: {17, Иоанн VI Антонович, male, 15, 16, 5},\n 18: {18, Петр I Алексеевич, male, [19, 20], 3, 5, [21, 24, 25], 2},\n 19: {19, Еводокия Федоровна Лопухина, female, [18], [21], 2},\n 20: {20, Екатерина I Алексеевна, female, [18], [24, 25], 2},\n 21: {21, Алексей Петрович, male, [22], 18, 19, [23], 3},\n 22: {22, Наталья Алексеевна Брауншвейг-Вольфенбюттельская, female, [21], [23], 3},\n 23: {23, Петр II Алексеевич, male, 22, 21, 4},\n 24: {24, Анна Петровна, female, [26], 18, 20, [27], 3},\n 25: {25, Елизавета  Петровна, female, 18, 20, 3},\n 26: {26, Карл Фридрих Гольштейн-Готторпсикй   , male, [24], [27], 3},\n 27: {27, Петр II Федорович, male, [28], 26, 24, [29], 4},\n 28: {28, Екатерина II Алексеевна, female, [27], [29], 4},\n 29: {29, Павел I Петрович, male, [30, 31], 27, 28, [32, 33], 5},\n 30: {30, Наталья Алексеевна Гессен-Дармштадская, female, [29], [32, 33], 5},\n 31: {31, Мария Федоровна Вюртембергская, female, [29], 5},\n 32: {32, Александр I Павлович, male, [34], 29, 30, 6},\n 33: {33, Николай I Павлович, male, [35], 29, 30, [36], 6},\n 34: {34, Елизавета Алексеевна Баден-Дурлахская, female, [32], 6},\n 35: {35, Александра Федоровна Прусская, female, [33], [36], 6},\n 36: {36, Александр II Николаевич, male, [37], 33, 35, [38], 7},\n 37: {37, Мария Александровна Гессенская, female, [36], [38], 7},\n 38: {38, Александр III Александрович, male, [39], 36, 37, [40], 8},\n 39: {39, Мария Федоровна Датская, female, [38], [40], 8},\n 40: {40, Николай II Александрович, male, [41], 38, 39, 9},\n 41: {41, Александра Федоровна Гессенская, female, [40], 9}}"
     },
     "execution_count": 120,
     "metadata": {},
     "output_type": "execute_result"
    }
   ],
   "source": [
    "family_tree = FamilyTree(open_json('data/tree3.json'))\n",
    "family_tree.tree"
   ],
   "metadata": {
    "collapsed": false,
    "pycharm": {
     "name": "#%%\n"
    }
   }
  },
  {
   "cell_type": "code",
   "execution_count": 130,
   "outputs": [
    {
     "data": {
      "text/plain": "2"
     },
     "execution_count": 130,
     "metadata": {},
     "output_type": "execute_result"
    }
   ],
   "source": [
    "len(get_all_rank(family_tree.tree, 9))"
   ],
   "metadata": {
    "collapsed": false,
    "pycharm": {
     "name": "#%%\n"
    }
   }
  },
  {
   "cell_type": "code",
   "execution_count": 50,
   "outputs": [
    {
     "name": "stdout",
     "output_type": "stream",
     "text": [
      "{17, Иоанн VI Антонович, male, 15, 16}\n"
     ]
    }
   ],
   "source": [
    "test = Person({\"id\": 17, \"mid\": 15, \"fid\": 16, \"name\": \"Иоанн VI Антонович\", \"gender\": \"male\"})\n",
    "print(test)"
   ],
   "metadata": {
    "collapsed": false,
    "pycharm": {
     "name": "#%%\n"
    }
   }
  },
  {
   "cell_type": "code",
   "execution_count": 51,
   "outputs": [],
   "source": [
    "test.cids.append(1)"
   ],
   "metadata": {
    "collapsed": false,
    "pycharm": {
     "name": "#%%\n"
    }
   }
  },
  {
   "cell_type": "code",
   "execution_count": 52,
   "outputs": [
    {
     "data": {
      "text/plain": "[1]"
     },
     "execution_count": 52,
     "metadata": {},
     "output_type": "execute_result"
    }
   ],
   "source": [
    "test.cids"
   ],
   "metadata": {
    "collapsed": false,
    "pycharm": {
     "name": "#%%\n"
    }
   }
  }
 ],
 "metadata": {
  "kernelspec": {
   "display_name": "Python 3",
   "language": "python",
   "name": "python3"
  },
  "language_info": {
   "codemirror_mode": {
    "name": "ipython",
    "version": 2
   },
   "file_extension": ".py",
   "mimetype": "text/x-python",
   "name": "python",
   "nbconvert_exporter": "python",
   "pygments_lexer": "ipython2",
   "version": "2.7.6"
  }
 },
 "nbformat": 4,
 "nbformat_minor": 0
}